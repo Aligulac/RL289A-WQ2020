{
 "cells": [
  {
   "cell_type": "code",
   "execution_count": 2,
   "metadata": {},
   "outputs": [],
   "source": [
    "import gym\n",
    "import gym_sokoban\n",
    "import numpy as np\n",
    "from IPython import display\n",
    "import matplotlib.pyplot as plt\n",
    "%matplotlib inline"
   ]
  },
  {
   "cell_type": "code",
   "execution_count": null,
   "metadata": {},
   "outputs": [],
   "source": [
    "import tensorflow as tf\n",
    "\n",
    "inputs = tf.random.normal([1, 10, 10, 7, 4])\n",
    "print(inputs.shape)\n",
    "conv = tf.keras.layers.Conv3D(32, (7, 7, 5), strides=1, padding='same')\n",
    "outputs = conv(inputs)\n",
    "print(outputs.shape)"
   ]
  },
  {
   "cell_type": "code",
   "execution_count": 164,
   "metadata": {},
   "outputs": [
    {
     "name": "stdout",
     "output_type": "stream",
     "text": [
      "[[0, 0, 0], [243, 248, 238], [254, 126, 125], [254, 95, 56], [142, 121, 56], [160, 212, 56], [219, 212, 56]]\n",
      "\n",
      "uint8\n"
     ]
    },
    {
     "data": {
      "text/plain": [
       "Text(0.5, 1.0, 'channel')"
      ]
     },
     "execution_count": 164,
     "metadata": {},
     "output_type": "execute_result"
    },
    {
     "data": {
      "image/png": "[encoded data removed]",
      "text/plain": [
       "<Figure size 432x288 with 1 Axes>"
      ]
     },
     "metadata": {
      "needs_background": "light"
     },
     "output_type": "display_data"
    },
    {
     "data": {
      "image/png": "[encoded data removed]",
      "text/plain": [
       "<Figure size 432x288 with 1 Axes>"
      ]
     },
     "metadata": {
      "needs_background": "light"
     },
     "output_type": "display_data"
    }
   ],
   "source": [
    "# RGB\n",
    "wall = [0, 0, 0]\n",
    "floor = [243, 248, 238]\n",
    "box_target = [254, 126, 125]\n",
    "box_on_target = [254, 95, 56]\n",
    "box = [142, 121, 56]\n",
    "player = [160, 212, 56]\n",
    "player_on_target = [219, 212, 56]\n",
    "\n",
    "surfaces = [wall, floor, box_target, box_on_target, box, player, player_on_target]\n",
    "print(surfaces)\n",
    "print()\n",
    "# print(observation[0:5, 0:5, :])\n",
    "# print()\n",
    "\n",
    "grid = np.zeros((10, 10, 7), dtype=np.uint8)\n",
    "\n",
    "plt.imshow(observation)\n",
    "#print(np.all(observation[0:5, 0:5, :] == surfaces[1], axis=2).astype(np.uint8))\n",
    "for si in range(len(surfaces)):\n",
    "    grid[..., si] = np.all(observation == surfaces[si], axis=2).astype(np.uint8)\n",
    "print(grid.dtype)\n",
    "plt.figure()\n",
    "plt.imshow(grid[..., 0]); plt.title('channel')"
   ]
  },
  {
   "cell_type": "code",
   "execution_count": 12,
   "metadata": {},
   "outputs": [
    {
     "name": "stdout",
     "output_type": "stream",
     "text": [
      "9\n",
      "(10, 10, 3)\n",
      "(10, 10, 3)\n",
      "-0.1\n",
      "False\n",
      "{'action.name': 'move right', 'action.moved_player': True, 'action.moved_box': False}\n"
     ]
    },
    {
     "data": {
      "image/png": "[encoded data removed]",
      "text/plain": [
       "<Figure size 432x288 with 1 Axes>"
      ]
     },
     "metadata": {
      "needs_background": "light"
     },
     "output_type": "display_data"
    },
    {
     "data": {
      "image/png": "[encoded data removed]",
      "text/plain": [
       "<Figure size 432x288 with 1 Axes>"
      ]
     },
     "metadata": {
      "needs_background": "light"
     },
     "output_type": "display_data"
    }
   ],
   "source": [
    "import gym\n",
    "import gym_sokoban\n",
    "import numpy as np\n",
    "from IPython import display\n",
    "import matplotlib.pyplot as plt\n",
    "%matplotlib inline\n",
    "\n",
    "#env = gym.make('Sokoban-v0')\n",
    "env = gym.make('Boxoban-Train-v0')\n",
    "n_actions = env.action_space.n\n",
    "print(n_actions)\n",
    "\n",
    "retval = env.reset()\n",
    "retval = env.render(mode='tiny_rgb_array')\n",
    "\n",
    "for _ in range(1000):\n",
    "    #plt.imshow(env.render(mode='tiny_rgb_array'))\n",
    "    frame = np.array(env.render(mode='tiny_rgb_array'))\n",
    "    assert np.equal(retval, frame).all()\n",
    "    print(frame.shape)\n",
    "    plt.imshow(frame)\n",
    "    #display.clear_output(wait=True)\n",
    "    #display.display(plt.gcf())\n",
    "    observation, reward, done, info = env.step(env.action_space.sample(), observation_mode='tiny_rgb_array')\n",
    "    plt.figure()\n",
    "    plt.imshow(np.array(observation)); plt.title('2')\n",
    "    print(observation.shape); print(reward); print(done); print(info)\n",
    "    break"
   ]
  },
  {
   "cell_type": "code",
   "execution_count": 19,
   "metadata": {},
   "outputs": [
    {
     "name": "stdout",
     "output_type": "stream",
     "text": [
      "<class 'bool'>\n"
     ]
    },
    {
     "ename": "IndexError",
     "evalue": "tuple index out of range",
     "output_type": "error",
     "traceback": [
      "\u001b[0;31m---------------------------------------------------------------------------\u001b[0m",
      "\u001b[0;31mIndexError\u001b[0m                                Traceback (most recent call last)",
      "\u001b[0;32m<ipython-input-19-c569578d1c64>\u001b[0m in \u001b[0;36m<module>\u001b[0;34m\u001b[0m\n\u001b[1;32m     14\u001b[0m     \u001b[0mobservation\u001b[0m\u001b[0;34m,\u001b[0m \u001b[0mreward\u001b[0m\u001b[0;34m,\u001b[0m \u001b[0mdone\u001b[0m\u001b[0;34m,\u001b[0m \u001b[0minfo\u001b[0m \u001b[0;34m=\u001b[0m \u001b[0menv\u001b[0m\u001b[0;34m.\u001b[0m\u001b[0mstep\u001b[0m\u001b[0;34m(\u001b[0m\u001b[0maction\u001b[0m\u001b[0;34m)\u001b[0m\u001b[0;34m\u001b[0m\u001b[0;34m\u001b[0m\u001b[0m\n\u001b[1;32m     15\u001b[0m     \u001b[0mprint\u001b[0m\u001b[0;34m(\u001b[0m\u001b[0mtype\u001b[0m\u001b[0;34m(\u001b[0m\u001b[0menv\u001b[0m\u001b[0;34m.\u001b[0m\u001b[0mrender\u001b[0m\u001b[0;34m(\u001b[0m\u001b[0mmode\u001b[0m\u001b[0;34m=\u001b[0m\u001b[0;34m'human'\u001b[0m\u001b[0;34m)\u001b[0m\u001b[0;34m)\u001b[0m\u001b[0;34m)\u001b[0m\u001b[0;34m\u001b[0m\u001b[0;34m\u001b[0m\u001b[0m\n\u001b[0;32m---> 16\u001b[0;31m     \u001b[0mimg\u001b[0m \u001b[0;34m=\u001b[0m \u001b[0mImage\u001b[0m\u001b[0;34m.\u001b[0m\u001b[0mfromarray\u001b[0m\u001b[0;34m(\u001b[0m\u001b[0mnp\u001b[0m\u001b[0;34m.\u001b[0m\u001b[0marray\u001b[0m\u001b[0;34m(\u001b[0m\u001b[0menv\u001b[0m\u001b[0;34m.\u001b[0m\u001b[0mrender\u001b[0m\u001b[0;34m(\u001b[0m\u001b[0mmode\u001b[0m\u001b[0;34m=\u001b[0m\u001b[0;34m'human'\u001b[0m\u001b[0;34m)\u001b[0m\u001b[0;34m)\u001b[0m\u001b[0;34m,\u001b[0m \u001b[0;34m'RGB'\u001b[0m\u001b[0;34m)\u001b[0m\u001b[0;34m\u001b[0m\u001b[0;34m\u001b[0m\u001b[0m\n\u001b[0m\u001b[1;32m     17\u001b[0m     \u001b[0;31m#plt.imshow(env.render(mode='human'))\u001b[0m\u001b[0;34m\u001b[0m\u001b[0;34m\u001b[0m\u001b[0;34m\u001b[0m\u001b[0m\n\u001b[1;32m     18\u001b[0m     \u001b[0;31m#display.clear_output(wait=True)\u001b[0m\u001b[0;34m\u001b[0m\u001b[0;34m\u001b[0m\u001b[0;34m\u001b[0m\u001b[0m\n",
      "\u001b[0;32m/usr/local/lib/python3.6/dist-packages/PIL/Image.py\u001b[0m in \u001b[0;36mfromarray\u001b[0;34m(obj, mode)\u001b[0m\n\u001b[1;32m   2692\u001b[0m         \u001b[0;32mraise\u001b[0m \u001b[0mValueError\u001b[0m\u001b[0;34m(\u001b[0m\u001b[0;34m\"Too many dimensions: %d > %d.\"\u001b[0m \u001b[0;34m%\u001b[0m \u001b[0;34m(\u001b[0m\u001b[0mndim\u001b[0m\u001b[0;34m,\u001b[0m \u001b[0mndmax\u001b[0m\u001b[0;34m)\u001b[0m\u001b[0;34m)\u001b[0m\u001b[0;34m\u001b[0m\u001b[0;34m\u001b[0m\u001b[0m\n\u001b[1;32m   2693\u001b[0m \u001b[0;34m\u001b[0m\u001b[0m\n\u001b[0;32m-> 2694\u001b[0;31m     \u001b[0msize\u001b[0m \u001b[0;34m=\u001b[0m \u001b[0mshape\u001b[0m\u001b[0;34m[\u001b[0m\u001b[0;36m1\u001b[0m\u001b[0;34m]\u001b[0m\u001b[0;34m,\u001b[0m \u001b[0mshape\u001b[0m\u001b[0;34m[\u001b[0m\u001b[0;36m0\u001b[0m\u001b[0;34m]\u001b[0m\u001b[0;34m\u001b[0m\u001b[0;34m\u001b[0m\u001b[0m\n\u001b[0m\u001b[1;32m   2695\u001b[0m     \u001b[0;32mif\u001b[0m \u001b[0mstrides\u001b[0m \u001b[0;32mis\u001b[0m \u001b[0;32mnot\u001b[0m \u001b[0;32mNone\u001b[0m\u001b[0;34m:\u001b[0m\u001b[0;34m\u001b[0m\u001b[0;34m\u001b[0m\u001b[0m\n\u001b[1;32m   2696\u001b[0m         \u001b[0;32mif\u001b[0m \u001b[0mhasattr\u001b[0m\u001b[0;34m(\u001b[0m\u001b[0mobj\u001b[0m\u001b[0;34m,\u001b[0m \u001b[0;34m\"tobytes\"\u001b[0m\u001b[0;34m)\u001b[0m\u001b[0;34m:\u001b[0m\u001b[0;34m\u001b[0m\u001b[0;34m\u001b[0m\u001b[0m\n",
      "\u001b[0;31mIndexError\u001b[0m: tuple index out of range"
     ]
    }
   ],
   "source": [
    "import gym\n",
    "import gym_sokoban\n",
    "import numpy as np\n",
    "from PIL import Image\n",
    "from IPython import display\n",
    "import matplotlib.pyplot as plt\n",
    "%matplotlib inline\n",
    "\n",
    "env = gym.make('Sokoban-v0')\n",
    "env.reset()\n",
    "for _ in range(1000):\n",
    "    env.render(mode='human')\n",
    "    action = env.action_space.sample()\n",
    "    observation, reward, done, info = env.step(action)\n",
    "    print(type(env.render(mode='human')))\n",
    "    img = Image.fromarray(np.array(env.render(mode='human')), 'RGB')\n",
    "    #plt.imshow(env.render(mode='human'))\n",
    "    #display.clear_output(wait=True)\n",
    "    display.display(img)"
   ]
  },
  {
   "cell_type": "code",
   "execution_count": 18,
   "metadata": {},
   "outputs": [
    {
     "name": "stderr",
     "output_type": "stream",
     "text": [
      "usage: ipykernel_launcher.py [-h] [--rounds rounds] [--steps steps]\n",
      "                             [--env env] [--save] [--gifs]\n",
      "                             [--render_mode render_mode]\n",
      "ipykernel_launcher.py: error: unrecognized arguments: -f /root/.local/share/jupyter/runtime/kernel-75bf61a2-fa83-40ef-93c0-b60696e3f71a.json\n"
     ]
    },
    {
     "ename": "SystemExit",
     "evalue": "2",
     "output_type": "error",
     "traceback": [
      "An exception has occurred, use %tb to see the full traceback.\n",
      "\u001b[0;31mSystemExit\u001b[0m\u001b[0;31m:\u001b[0m 2\n"
     ]
    }
   ],
   "source": [
    "import gym\n",
    "import gym_sokoban\n",
    "import time\n",
    "from PIL import Image\n",
    "import numpy as np\n",
    "import argparse\n",
    "import os\n",
    "\n",
    "parser = argparse.ArgumentParser(description='Run environment with random selected actions.')\n",
    "parser.add_argument('--rounds', '-r', metavar='rounds', type=int,\n",
    "                    help='number of rounds to play (default: 1)', default=1)\n",
    "parser.add_argument('--steps', '-s', metavar='steps', type=int,\n",
    "                    help='maximum number of steps to be played each round (default: 300)', default=300)\n",
    "parser.add_argument('--env', '-e', metavar='env',\n",
    "                    help='Environment to load (default: Sokoban-v0)', default='Sokoban-v0')\n",
    "parser.add_argument('--save', action='store_true',\n",
    "                    help='Save images of single steps')\n",
    "parser.add_argument('--gifs', action='store_true',\n",
    "                    help='Generate Gif files from images')\n",
    "parser.add_argument('--render_mode', '-m', metavar='render_mode',\n",
    "                    help='Render Mode (default: human)', default='human')\n",
    "\n",
    "args = parser.parse_args()\n",
    "env_name = args.env\n",
    "n_rounds = args.rounds\n",
    "n_steps = args.steps\n",
    "save_images = args.save or args.gifs\n",
    "generate_gifs = args.gifs\n",
    "render_mode = args.render_mode\n",
    "observation_mode = 'tiny_rgb_array' if 'tiny' in render_mode else 'rgb_array'\n",
    "scale_image = 16\n",
    "\n",
    "# Creating target directory if images are to be stored\n",
    "if save_images and not os.path.exists('images'):\n",
    "    try:\n",
    "        os.makedirs('images')\n",
    "    except OSError:\n",
    "        print('Error: Creating images target directory. ')\n",
    "\n",
    "ts = time.time()\n",
    "env = gym.make(env_name)\n",
    "ACTION_LOOKUP = env.unwrapped.get_action_lookup()\n",
    "print(\"Created environment: {}\".format(env_name))\n",
    "\n",
    "\n",
    "def print_available_actions():\n",
    "    \"\"\"\n",
    "    Prints all available actions nicely formatted..\n",
    "    :return:\n",
    "    \"\"\"\n",
    "    available_actions_list = []\n",
    "    for i in range(len(ACTION_LOOKUP)):\n",
    "        available_actions_list.append(\n",
    "            'Key: {} - Action: {}'.format(i, ACTION_LOOKUP[i])\n",
    "        )\n",
    "    display_actions = '\\n'.join(available_actions_list)\n",
    "    print()\n",
    "    print('Action out of Range!')\n",
    "    print('Available Actions:\\n{}'.format(display_actions))\n",
    "    print()\n",
    "\n",
    "\n",
    "for i_episode in range(n_rounds):\n",
    "    print('Starting new game!')\n",
    "    observation = env.reset()\n",
    "\n",
    "    for t in range(n_steps):\n",
    "        env.render(render_mode, scale=scale_image)\n",
    "\n",
    "        action = input('Select action: ')\n",
    "        try:\n",
    "            action = int(action)\n",
    "\n",
    "            if not action in range(len(ACTION_LOOKUP)):\n",
    "                raise ValueError\n",
    "\n",
    "        except ValueError:\n",
    "            print_available_actions()\n",
    "            continue\n",
    "\n",
    "        observation, reward, done, info = env.step(action, observation_mode=observation_mode)\n",
    "        print(ACTION_LOOKUP[action], reward, done, info)\n",
    "        print(len(observation), len(observation[0]), len(observation[0][0]))\n",
    "        if save_images:\n",
    "            img = Image.fromarray(np.array(env.render(render_mode, scale=scale_image)), 'RGB')\n",
    "            img.save(os.path.join('images', 'observation_{}_{}.png'.format(i_episode, t)))\n",
    "\n",
    "        if done:\n",
    "            print(\"Episode finished after {} timesteps\".format(t+1))\n",
    "            env.render(render_mode, scale=scale_image)\n",
    "            break\n",
    "\n",
    "    if generate_gifs:\n",
    "        print('')\n",
    "        import imageio\n",
    "\n",
    "        with imageio.get_writer(os.path.join('images', 'round_{}.gif'.format(i_episode)), mode='I', fps=1) as writer:\n",
    "\n",
    "                for t in range(n_steps):\n",
    "                    try:\n",
    "\n",
    "                        filename = os.path.join('images', 'observation_{}_{}.png'.format(i_episode, t))\n",
    "                        image = imageio.imread(filename)\n",
    "                        writer.append_data(image)\n",
    "\n",
    "                    except:\n",
    "                        pass\n",
    "\n",
    "env.close()\n",
    "time.sleep(10)"
   ]
  },
  {
   "cell_type": "code",
   "execution_count": null,
   "metadata": {},
   "outputs": [],
   "source": []
  }
 ],
 "metadata": {
  "kernelspec": {
   "display_name": "Python 3",
   "language": "python",
   "name": "python3"
  },
  "language_info": {
   "codemirror_mode": {
    "name": "ipython",
    "version": 3
   },
   "file_extension": ".py",
   "mimetype": "text/x-python",
   "name": "python",
   "nbconvert_exporter": "python",
   "pygments_lexer": "ipython3",
   "version": "3.6.9"
  }
 },
 "nbformat": 4,
 "nbformat_minor": 4
}
